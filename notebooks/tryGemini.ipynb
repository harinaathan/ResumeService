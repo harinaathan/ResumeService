{
 "cells": [
  {
   "cell_type": "code",
   "execution_count": 1,
   "metadata": {},
   "outputs": [],
   "source": [
    "import os\n",
    "import google.generativeai as genai\n",
    "from langchain.document_loaders import TextLoader                                           \n",
    "from langchain.text_splitter import RecursiveCharacterTextSplitter\n",
    "from langchain_google_genai import ChatGoogleGenerativeAI\n",
    "from langchain.vectorstores import Chroma\n",
    "from langchain.chains import RetrievalQA\n",
    "from dotenv import load_dotenv\n",
    "from sentence_transformers import SentenceTransformer\n",
    "\n",
    "load_dotenv()\n",
    "\n",
    "# Configure Gemini API\n",
    "genai.configure(api_key=os.getenv(\"GOOGLE_API_KEY\"))\n",
    "\n",
    "# 1. Load and Process the Resume\n",
    "resumeLoader = TextLoader(\"HariSamynaath_resume_20250210.txt\")\n",
    "resumeDocs = resumeLoader.load()\n",
    "# split to chunks\n",
    "text_splitter = RecursiveCharacterTextSplitter(chunk_size=1000, chunk_overlap=200)\n",
    "ResumeTexts = text_splitter.split_documents(resumeDocs)\n",
    "\n",
    "# repeat same with elaborate write up\n",
    "writeupLoader = TextLoader(\"HariSamynaath_profile_writeup.txt\")\n",
    "writeupDocs = writeupLoader.load()\n",
    "# split to chunks\n",
    "writeupTexts = text_splitter.split_documents(writeupDocs)\n",
    "\n",
    "# collect all documents\n",
    "texts = ResumeTexts\n",
    "texts.extend(writeupTexts)\n",
    "\n",
    "class SentenceTransformerEmbeddings:\n",
    "    def __init__(self, model_name=\"all-mpnet-base-v2\"):\n",
    "        self.model = SentenceTransformer(model_name)\n",
    "\n",
    "    def embed_documents(self, texts):\n",
    "        return self.model.encode(texts, convert_to_tensor=False).tolist()\n",
    "\n",
    "    def embed_query(self, text):\n",
    "        return self.model.encode([text], convert_to_tensor=False).tolist()[0]\n",
    "    \n",
    "embeddings = SentenceTransformerEmbeddings(\"all-mpnet-base-v2\")\n",
    "# embeddings = GoogleGenerativeAIEmbeddings(model=\"models/embedding-001\")\n",
    "\n",
    "db = Chroma.from_documents(texts, embeddings, persist_directory=\"./.chroma_db\") #Local persistance.\n",
    "\n",
    "llm = ChatGoogleGenerativeAI(model=\"gemini-2.0-flash-001\")\n",
    "retriever = db.as_retriever()\n",
    "qa_chain = RetrievalQA.from_chain_type(llm=llm, chain_type=\"stuff\", retriever=retriever)\n",
    "\n",
    "def ask_question(question,wordlimit=100):\n",
    "    presetText = f\"\"\"explain in less than {wordlimit} words as a continuous paragraph.\n",
    "consider 'you' as addressing the resume owner.\n",
    "Just provide only the answer.\n",
    "answer in the voice of the resume owner.\"\"\"\n",
    "    query = '\\n'.join([question, presetText])\n",
    "    response = qa_chain.invoke(query)\n",
    "    return response['result']"
   ]
  },
  {
   "cell_type": "code",
   "execution_count": 7,
   "metadata": {},
   "outputs": [
    {
     "name": "stdout",
     "output_type": "stream",
     "text": [
      "• Subject Matter Expert in sourcing, part development, and part & tool costing.\n",
      "Managed 8 unique vendors and 8 unique part classes, comprising over 3000 SKUs\n",
      "from 12 different models, with a total value of ₹1850 Cr.\n",
      "• Led a team that quickly and effectively resolved a water leakage issue during\n",
      "new source development, preventing field escalations and containing the problem\n",
      "within factory limits.\n",
      "• Led a team that contributed significantly to stabilizing a derailed\n",
      "production line after a fire accident at a component supplier, through new-tool\n",
      "tryouts, production planning, sequencing, and quality control. The stabilization\n",
      "efforts spanned two weeks, successfully preventing a significant disruption to\n",
      "the final assembly line.\n",
      "Manufacturing Specialist | Hyundai Motor India Ltd. | Chennai, India | 2015 –\n",
      "2018\n",
      "• Subject Matter Expert in sourcing, part development, and part & tool costing.\n",
      "Managed 8 unique vendors and 8 unique part classes, comprising over 3000 SKUs\n",
      "from 12 different models, with a total value of ₹1850 Cr.\n",
      "• Led a team that quickly and effectively resolved a water leakage issue during\n",
      "new source development, preventing field escalations and containing the problem\n",
      "within factory limits.\n",
      "• Led a team that contributed significantly to stabilizing a derailed\n",
      "production line after a fire accident at a component supplier, through new-tool\n",
      "tryouts, production planning, sequencing, and quality control. The stabilization\n",
      "efforts spanned two weeks, successfully preventing a significant disruption to\n",
      "the final assembly line.\n",
      "Manufacturing Specialist | Hyundai Motor India Ltd. | Chennai, India | 2015 –\n",
      "2018\n",
      "Part Development Senior Specialist | Hyundai Motor India Ltd. | Chennai | 2018\n",
      "- 2022\n",
      "* Developed a VBA automation tool for part price revision data, saving 550\n",
      "man-hours annually.\n",
      "* Managed a INR 1850 Cr portfolio, specializing in sourcing, part development,\n",
      "and costing.\n",
      "* Led teams to resolve critical issues, preventing field escalations and\n",
      "production disruptions.\n",
      "\n",
      "Manufacturing Specialist | Hyundai Motor India Ltd. | Chennai | 2015 - 2018\n",
      "* Subject Matter Expert in manufacturing equipment and facilities.\n",
      "* Improved process efficiency by 10% through workflow analysis.\n",
      "* Process Creator for VERNA and SANTRO side structure fabrication.\n",
      "* Led a team of 3 junior colleagues, providing mentorship and guidance.\n",
      "\n",
      "Intern | Renault Nissan Technology & Business Centre India Pvt. Ltd. | Chennai\n",
      "| 2014 - 2015\n",
      "* Optimized powertrain bracket design using FEA, improving NVH and reducing\n",
      "weight.\n",
      "Part Development Senior Specialist | Hyundai Motor India Ltd. | Chennai | 2018\n",
      "- 2022\n",
      "* Developed a VBA automation tool for part price revision data, saving 550\n",
      "man-hours annually.\n",
      "* Managed a INR 1850 Cr portfolio, specializing in sourcing, part development,\n",
      "and costing.\n",
      "* Led teams to resolve critical issues, preventing field escalations and\n",
      "production disruptions.\n",
      "\n",
      "Manufacturing Specialist | Hyundai Motor India Ltd. | Chennai | 2015 - 2018\n",
      "* Subject Matter Expert in manufacturing equipment and facilities.\n",
      "* Improved process efficiency by 10% through workflow analysis.\n",
      "* Process Creator for VERNA and SANTRO side structure fabrication.\n",
      "* Led a team of 3 junior colleagues, providing mentorship and guidance.\n",
      "\n",
      "Intern | Renault Nissan Technology & Business Centre India Pvt. Ltd. | Chennai\n",
      "| 2014 - 2015\n",
      "* Optimized powertrain bracket design using FEA, improving NVH and reducing\n",
      "weight.\n"
     ]
    }
   ],
   "source": [
    "for doc in retriever.get_relevant_documents(\"certificate\"):\n",
    "    print(myWrap(doc.model_dump()['page_content']))"
   ]
  },
  {
   "cell_type": "code",
   "execution_count": 4,
   "metadata": {},
   "outputs": [],
   "source": [
    "def myWrap(text, width=80):\n",
    "    lines = text.splitlines()\n",
    "    wrapped_lines = []\n",
    "\n",
    "    for line in lines:\n",
    "        words = line.split()\n",
    "        newLine = \"\"\n",
    "        for word in words:\n",
    "            if len(newLine) + len(word) + 1 <= width:\n",
    "                newLine = ' '.join([newLine, word])\n",
    "            else:\n",
    "                wrapped_lines.append(newLine.strip())\n",
    "                newLine = word\n",
    "        \n",
    "        wrapped_lines.append(newLine.strip())\n",
    "        \n",
    "    return '\\n'.join(wrapped_lines)"
   ]
  },
  {
   "cell_type": "markdown",
   "metadata": {},
   "source": [
    "for text in texts:\n",
    "    myStr = text.model_dump()['page_content']\n",
    "    print(myWrap(myStr))\n",
    "    print(f\"\\n{len(myStr)} \", \"=\"*10,end=\"\\n\\n\")"
   ]
  },
  {
   "cell_type": "markdown",
   "metadata": {},
   "source": [
    "len(texts)"
   ]
  },
  {
   "cell_type": "markdown",
   "metadata": {},
   "source": [
    "questions = [\n",
    "    \"What are your key skills?\",\n",
    "    \"What are your professional experiences?\",\n",
    "    \"What projects have you worked on?\",\n",
    "    \"What is your educational background?\"\n",
    "]\n",
    "\n",
    "for question in questions:\n",
    "    answer = ask_question(question)\n",
    "    print(f\"Question: {question}\")\n",
    "    print(f\"Answer: {answer}\\n\")"
   ]
  },
  {
   "cell_type": "code",
   "execution_count": 8,
   "metadata": {},
   "outputs": [
    {
     "name": "stdout",
     "output_type": "stream",
     "text": [
      "I don't have certificates listed in my resume. However, my skills encompass a\n",
      "wide range of data science techniques, including machine learning, deep\n",
      "learning, and NLP. I'm proficient with tools like Power BI, Azure Machine\n",
      "Learning, Python, and SQL. My background also includes experience in project\n",
      "management, process improvement, and leadership, demonstrated through roles at\n",
      "Hyundai Motor India and Renault Nissan.\n"
     ]
    }
   ],
   "source": [
    "print(myWrap(ask_question(\"List your certificates\")))"
   ]
  }
 ],
 "metadata": {
  "kernelspec": {
   "display_name": ".venv",
   "language": "python",
   "name": "python3"
  },
  "language_info": {
   "codemirror_mode": {
    "name": "ipython",
    "version": 3
   },
   "file_extension": ".py",
   "mimetype": "text/x-python",
   "name": "python",
   "nbconvert_exporter": "python",
   "pygments_lexer": "ipython3",
   "version": "3.12.3"
  }
 },
 "nbformat": 4,
 "nbformat_minor": 2
}
